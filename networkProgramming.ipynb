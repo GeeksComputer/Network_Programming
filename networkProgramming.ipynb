{
 "cells": [
  {
   "cell_type": "markdown",
   "metadata": {},
   "source": [
    "Penjelasan kode program tersimpel atau paling sederhana untuk menghubungkan perangkat dengan perangkat lainnya. Pertama adalah membuat sebuah berkas python dengan nama 'binder.py' dan 'receiver.py', buatlah direktori dengan nama apapun lalu letakkan kedua berkas python didalamnya."
   ]
  },
  {
   "cell_type": "markdown",
   "metadata": {},
   "source": [
    "memulai menulis program pada berkas 'binder.py' (server):\n",
    "Ketikkan kode program untuk melakukan pengimport an library (pustaka)."
   ]
  },
  {
   "cell_type": "code",
   "execution_count": null,
   "metadata": {},
   "outputs": [],
   "source": [
    "import socket"
   ]
  },
  {
   "cell_type": "markdown",
   "metadata": {},
   "source": [
    "Mendeklarasikan / menginisialisasikan atau mendefinisikan alamat IP dan port."
   ]
  },
  {
   "cell_type": "code",
   "execution_count": null,
   "metadata": {},
   "outputs": [],
   "source": [
    "ip=\"0.0.0.0\"\n",
    "port=8080"
   ]
  },
  {
   "cell_type": "markdown",
   "metadata": {},
   "source": [
    "Menginisialisasikan method socket sebagai bahan untuk memulai penghubungan."
   ]
  },
  {
   "cell_type": "code",
   "execution_count": null,
   "metadata": {},
   "outputs": [],
   "source": [
    "s=socket.socket(socket.AF_INET,socket.SOCK_STREAM)\n",
    "s.setsockopt(socket.SOL_SOCKET,socket.SO_REUSEADDR,1)"
   ]
  },
  {
   "cell_type": "markdown",
   "metadata": {},
   "source": [
    "Menginisialisasikan method untuk memulai menghubungkan sebagai server dan menentukan jumlah data yang diterima."
   ]
  },
  {
   "cell_type": "code",
   "execution_count": null,
   "metadata": {},
   "outputs": [],
   "source": [
    "s.bind((ip,port))\n",
    "s.listen(1)"
   ]
  },
  {
   "cell_type": "markdown",
   "metadata": {},
   "source": [
    "Menginisialisasikan method untuk menerima penghubungan dari perangkat."
   ]
  },
  {
   "cell_type": "code",
   "execution_count": null,
   "metadata": {},
   "outputs": [],
   "source": [
    "conn,addr=s.accept()\n",
    "print('[+]Connected to',addr)"
   ]
  },
  {
   "cell_type": "markdown",
   "metadata": {},
   "source": [
    "Mengirim data ke perangkat yang terhubung dan menginisialisasikan method untuk menentukan ukuran data yang diterima sebagai server."
   ]
  },
  {
   "cell_type": "code",
   "execution_count": null,
   "metadata": {},
   "outputs": [],
   "source": [
    "conn.send(b\"hello\")\n",
    "response=conn.recv(1024)\n",
    "print(response)"
   ]
  },
  {
   "cell_type": "markdown",
   "metadata": {},
   "source": [
    "Full kode program (binder.py):"
   ]
  },
  {
   "cell_type": "code",
   "execution_count": null,
   "metadata": {},
   "outputs": [],
   "source": [
    "import socket\n",
    "ip=\"0.0.0.0\"\n",
    "port=8080\n",
    "s=socket.socket(socket.AF_INET,socket.SOCK_STREAM)\n",
    "s.setsockopt(socket.SOL_SOCKET,socket.SO_REUSEADDR,1)\n",
    "s.bind((ip,port))\n",
    "s.listen(1)\n",
    "conn,addr=s.accept()\n",
    "print('[+]Connected to',addr)\n",
    "conn.send(b\"hello\")\n",
    "response=conn.recv(1024)\n",
    "print(response)"
   ]
  },
  {
   "cell_type": "markdown",
   "metadata": {},
   "source": [
    "memulai menulis program pada berkas 'receiver.py' (client):\n",
    "Ketikkan kode program untuk melakukan pengimport an library (pustaka)."
   ]
  },
  {
   "cell_type": "code",
   "execution_count": null,
   "metadata": {},
   "outputs": [],
   "source": [
    "import socket"
   ]
  },
  {
   "cell_type": "markdown",
   "metadata": {},
   "source": [
    "Mendeklarasikan / menginisialisasikan atau mendefinisikan alamat IP dan port."
   ]
  },
  {
   "cell_type": "code",
   "execution_count": null,
   "metadata": {},
   "outputs": [],
   "source": [
    "ip=\"127.0.0.1\"\n",
    "port=8080"
   ]
  },
  {
   "cell_type": "markdown",
   "metadata": {},
   "source": [
    "Menginisialisasikan method socket sebagai bahan untuk memulai penghubungan."
   ]
  },
  {
   "cell_type": "code",
   "execution_count": null,
   "metadata": {},
   "outputs": [],
   "source": [
    "s=socket.socket(socket.AF_INET,socket.SOCK_STREAM)\n",
    "s.setsockopt(socket.SOL_SOCKET,socket.SO_REUSEADDR,1)"
   ]
  },
  {
   "cell_type": "markdown",
   "metadata": {},
   "source": [
    "Menginisialisasikan method untuk memulai menghubungkan sebagai client."
   ]
  },
  {
   "cell_type": "code",
   "execution_count": null,
   "metadata": {},
   "outputs": [],
   "source": [
    "s.connect((ip,port))"
   ]
  },
  {
   "cell_type": "markdown",
   "metadata": {},
   "source": [
    "Menginisialisasikan method untuk menentukan ukuran data yang diterima dan mengirim data sebagai client."
   ]
  },
  {
   "cell_type": "code",
   "execution_count": null,
   "metadata": {},
   "outputs": [],
   "source": [
    "response=s.recv(1024)\n",
    "s.send(b\"Hello\")\n",
    "print(\"Data sent!\")"
   ]
  },
  {
   "cell_type": "markdown",
   "metadata": {},
   "source": [
    "Full kode program (receiver.py):"
   ]
  },
  {
   "cell_type": "code",
   "execution_count": null,
   "metadata": {},
   "outputs": [],
   "source": [
    "import socket\n",
    "ip=\"127.0.0.1\"\n",
    "port=8080\n",
    "s=socket.socket(socket.AF_INET,socket.SOCK_STREAM)\n",
    "s.setsockopt(socket.SOL_SOCKET,socket.SO_REUSEADDR,1)\n",
    "s.connect((ip,port))\n",
    "response=s.recv(1024)\n",
    "s.send(b\"Hello\")\n",
    "print(\"Data sent!\")"
   ]
  }
 ],
 "metadata": {
  "language_info": {
   "name": "python"
  },
  "orig_nbformat": 4
 },
 "nbformat": 4,
 "nbformat_minor": 2
}
